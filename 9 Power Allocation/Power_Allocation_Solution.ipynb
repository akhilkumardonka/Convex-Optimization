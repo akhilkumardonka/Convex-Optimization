{
  "nbformat": 4,
  "nbformat_minor": 0,
  "metadata": {
    "colab": {
      "name": "Power Allocation Solution",
      "provenance": [],
      "collapsed_sections": []
    },
    "kernelspec": {
      "name": "python3",
      "display_name": "Python 3"
    },
    "language_info": {
      "name": "python"
    }
  },
  "cells": [
    {
      "cell_type": "code",
      "execution_count": 4,
      "metadata": {
        "id": "rMJQdF46VsPh"
      },
      "outputs": [],
      "source": [
        "import numpy as np\n",
        "import cvxpy as cp"
      ]
    },
    {
      "cell_type": "code",
      "source": [
        "gains = np.array([[1.0,0.1,0.2,0.1,0.0], [0.1,1.0,0.1,0.1,0.0], [0.2,0.1,2.0,0.2,0.2], [0.1,0.1,0.2,1.0,0.1], [0.0,0.0,0.2,0.1,1.0]])\n",
        "\n",
        "n,m = np.shape(gains)\n",
        "max_Power = np.array([3.]*n).reshape((n,1))\n",
        "rx_Power = (np.array([5.,5.,5.,5.,5.]).reshape((n,1)))/n\n",
        "sigma = np.array([0.5,0.5,0.5,0.5,0.5]).reshape((n,1))\n",
        "grps = np.array([[1.,1.,0,0,0],[0,0,1.,1.,1.]])\n",
        "max_grp = np.array([[3.0],[6.0]])\n",
        "epsilon = 0.05\n",
        "\n",
        "p = cp.Variable((n,1))\n",
        "optimalPow = np.zeros(n)\n",
        "\n",
        "# upper and lower bounds\n",
        "upper = 1e4\n",
        "lower = 0\n",
        "  \n",
        "alpha = cp.Parameter()\n",
        "constraints = [(gains-gains*np.eye(n))@p + sigma <= alpha*(gains*np.eye(n))*p, \n",
        "               p <= max_Power , p >= 0, gains*p <= rx_Power, np.array([group/np.sum(group) for group in grps])*p <= max_grp]\n",
        "\n",
        "obj = cp.Minimize(alpha)\n",
        "alpha.value = upper\n",
        "prob = cp.Problem(obj, constraints)\n",
        "prob.solve()\n",
        "\n",
        "if prob.status != 'optimal':\n",
        "  print('Optimal solution out of bounds\\n')\n",
        "  alpha.value = np.nan\n",
        "  optimalPow = np.nan\n",
        "\n",
        "else:  \n",
        "  alpha.value = lower\n",
        "  prob = cp.Problem(obj, constraints)\n",
        "  prob.solve()\n",
        "\n",
        "  if prob.status == 'optimal':\n",
        "    print('Optimal solution out of bounds\\n')\n",
        "    alpha.value = np.nan\n",
        "    optimalPow = np.nan\n",
        "\n",
        "  else:\n",
        "    # Bisection algortithm \n",
        "    maxLoop = int(1e7)\n",
        "    for i in range(1,maxLoop):\n",
        "      alpha.value = (upper + lower)/2.0\n",
        "    \n",
        "      if upper-lower <= epsilon:\n",
        "        break\n",
        "      prob = cp.Problem(obj, constraints)\n",
        "      prob.solve()\n",
        "      if prob.status == 'optimal':\n",
        "        upper = alpha.value\n",
        "        optimalPow = p.value\n",
        "      else:\n",
        "        lower = alpha.value\n",
        "      if upper - lower > epsilon and i == (maxLoop-1):\n",
        "        print(\"Solution not converged to order epsilon\")\n",
        "\n",
        "print('Minimum SINR=%.4g'%(1/alpha.value))\n",
        "print('Power=%s'%(optimalPow))"
      ],
      "metadata": {
        "colab": {
          "base_uri": "https://localhost:8080/"
        },
        "id": "-4QMxZ5x2jaS",
        "outputId": "d333848f-1406-414b-a1f3-9c1ea99bcb4c"
      },
      "execution_count": 5,
      "outputs": [
        {
          "output_type": "stream",
          "name": "stdout",
          "text": [
            "Minimum SINR=0.7598\n",
            "Power=[[0.51316491]\n",
            " [0.49975582]\n",
            " [0.32181663]\n",
            " [0.54193416]\n",
            " [0.46441846]]\n"
          ]
        }
      ]
    }
  ]
}