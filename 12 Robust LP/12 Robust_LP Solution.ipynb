{
  "nbformat": 4,
  "nbformat_minor": 0,
  "metadata": {
    "colab": {
      "name": "Robust LP",
      "provenance": [],
      "collapsed_sections": []
    },
    "kernelspec": {
      "name": "python3",
      "display_name": "Python 3"
    },
    "language_info": {
      "name": "python"
    }
  },
  "cells": [
    {
      "cell_type": "code",
      "execution_count": 5,
      "metadata": {
        "id": "EF6yGMhVCqMY"
      },
      "outputs": [],
      "source": [
        "import cvxpy as cp\n",
        "import numpy as np\n",
        "\n",
        "np.random.seed(10)\n",
        "(m, n) = (30, 10)\n",
        "\n",
        "A = np.random.rand(m, n)\n",
        "A = np.asmatrix(A)\n",
        "\n",
        "b = np.random.rand(m, 1)\n",
        "b = np.asmatrix(b)\n",
        "\n",
        "c_nom = np.ones((n, 1)) + np.random.rand(n, 1)\n",
        "c_nom = np.asmatrix(c_nom)"
      ]
    },
    {
      "cell_type": "code",
      "source": [
        "#given \n",
        "#each c_i do not deviate more than 25% of nominal c\n",
        "lhs1 = (0.25*1 - 1)*c_nom\n",
        "rhs1 = (0.25*1 + 1)*c_nom\n",
        "\n",
        "#average of C do not deviate more than 10% of nominal values\n",
        "lhs2 = (1*0.1 - 1)*sum(c_nom)/n\n",
        "rhs2 = (1*0.1 + 1)*sum(c_nom)/n\n",
        "\n",
        "# constraint formulation\n",
        "g = np.r_[rhs1, lhs1, rhs2, lhs2]\n",
        "F = np.r_[np.eye(n), -np.eye(n), np.ones((1, n))/n, -np.ones((1, n))/n]\n",
        "\n",
        "lang_multiplier = cp.Variable(g.size)\n",
        "x = cp.Variable(n)\n",
        "\n",
        "S = cp.reshape(A*x,(30,1))\n",
        "\n",
        "# cost function\n",
        "def totalCost(a, b):\n",
        "  return cp.matmul(a.T, b)\n",
        "\n",
        "# Applying dual on given problem (from c part):\n",
        "dual_constraints = [S>=b, cp.matmul(F.T, lang_multiplier)==x, lang_multiplier>=0]\n",
        "dual_objective = cp.Minimize(totalCost(lang_multiplier, g))\n",
        "dual_prob = cp.Problem(dual_objective, dual_constraints)\n",
        "dual_prob.solve()\n",
        "\n",
        "# since optimal value of dual is also optimal value of primal\n",
        "x_robust = x.value\n",
        "\n",
        "constraint = [S>=b]\n",
        "objective = cp.Minimize(totalCost(c_nom, x))\n",
        "prob = cp.Problem(objective, constraint)\n",
        "prob.solve()\n",
        "x_nominal = x.value\n",
        "x_nominal = cp.reshape(x_nominal,(10,1))\n",
        "x_robust = cp.reshape(x_robust,(10,1))\n",
        "\n",
        "print(\"Cost of X Nominal:\",(c_nom.T*x_nominal).value )\n",
        "print(\"Cost of X Robust:\",(c_nom.T*x_robust).value )\n",
        "\n",
        "# primal problem\n",
        "c = cp.Variable(n)\n",
        "S1 = cp.reshape(F*c,(22,1))\n",
        "constraint = [S1<=g]\n",
        "\n",
        "nominal_objective = cp.Maximize(totalCost(c, x_nominal))\n",
        "robust_objective = cp.Maximize(totalCost(c, x_robust))\n",
        "\n",
        "nominal_func_problem = cp.Problem(nominal_objective, constraint)\n",
        "nominal_func = nominal_func_problem.solve()\n",
        "\n",
        "robust_func_problem = cp.Problem(robust_objective, constraint)\n",
        "robust_func = robust_func_problem.solve()\n",
        "\n",
        "print(\"\\nWorst case for nominal x:\",nominal_func)\n",
        "print(\"Worst case for robust x:\",robust_func)"
      ],
      "metadata": {
        "colab": {
          "base_uri": "https://localhost:8080/"
        },
        "id": "tClK7O-oC7ry",
        "outputId": "1ca545d1-1de1-4396-d8c4-e9827145529c"
      },
      "execution_count": 19,
      "outputs": [
        {
          "output_type": "stream",
          "name": "stdout",
          "text": [
            "Cost of X Nominal: [[2.10927146]]\n",
            "Cost of X Robust: [[2.52320886]]\n",
            "\n",
            "Worst case for nominal x: 7.2215622012361225\n",
            "Worst case for robust x: 3.165961051233025\n"
          ]
        }
      ]
    }
  ]
}