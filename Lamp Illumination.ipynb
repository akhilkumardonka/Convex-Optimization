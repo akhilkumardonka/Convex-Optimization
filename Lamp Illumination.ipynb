{
 "cells": [
  {
   "cell_type": "code",
   "execution_count": 17,
   "id": "7bba218e",
   "metadata": {},
   "outputs": [],
   "source": [
    "#Library imports\n",
    "import numpy as np\n",
    "import matplotlib.pyplot as plt\n",
    "import cvxpy as cp\n",
    "\n",
    "n=10 #number of patches\n",
    "m=5 #number of lamps\n",
    "\n",
    "A = np.random.rand(n,m) #random initialization of n X m matrix"
   ]
  },
  {
   "cell_type": "code",
   "execution_count": 18,
   "id": "8a23c505",
   "metadata": {},
   "outputs": [],
   "source": [
    "# \"@\" matrix multiplication | \"*\" element wise multiplication\n",
    "\n",
    "#penalty defination\n",
    "def Penalty(p):\n",
    "    return np.max(np.abs(np.log(A@p)))"
   ]
  },
  {
   "cell_type": "markdown",
   "id": "ba1f7a03",
   "metadata": {},
   "source": [
    "# Solution to the objective in penalty"
   ]
  },
  {
   "cell_type": "code",
   "execution_count": 25,
   "id": "5718bb53",
   "metadata": {},
   "outputs": [
    {
     "name": "stdout",
     "output_type": "stream",
     "text": [
      "Optimal powers: [0.2851187  0.10120981 0.5048786  0.3567298  0.74467301]\n",
      "Optimal penalty:  0.3050624795653045\n"
     ]
    }
   ],
   "source": [
    "#power from each lamp in vector\n",
    "p = cp.Variable(m)\n",
    "\n",
    "#constraints on power from each lamp\n",
    "Constraints = [p>=0, p<=1];\n",
    "\n",
    "#disciplined convex formulation, comparing each respective element in both vectors and output is vector\n",
    "Objective = cp.Minimize(cp.max(cp.maximum(A@p, cp.inv_pos(A@p))))\n",
    "\n",
    "prob = cp.Problem(Objective, Constraints);\n",
    "prob.solve()\n",
    "\n",
    "print(\"Optimal powers:\", p.value)\n",
    "print(\"Optimal penalty: \", Penalty(p.value))"
   ]
  },
  {
   "cell_type": "markdown",
   "id": "bc9adbee",
   "metadata": {},
   "source": [
    "# Suboptimal approach | Removing Logarithm"
   ]
  },
  {
   "cell_type": "code",
   "execution_count": 27,
   "id": "e5e1761b",
   "metadata": {},
   "outputs": [
    {
     "name": "stdout",
     "output_type": "stream",
     "text": [
      "Optimal powers: [0.22476418 0.44172394 0.34848935 0.24139286 0.51609625]\n",
      "Optimal penalty:  0.5368139640355923\n"
     ]
    }
   ],
   "source": [
    "# least square approximation\n",
    "p = cp.Variable(m)\n",
    "objective = cp.Minimize(cp.sum_squares(A@p - np.ones((n,))))\n",
    "prob = cp.Problem(objective)\n",
    "prob.solve()\n",
    "\n",
    "#but in above solution, we have ignored the constraints and this may lead to negative powers\n",
    "clipped_powers = np.clip(p.value, 0, 1);\n",
    "\n",
    "print(\"Optimal powers:\", clipped_powers)\n",
    "print(\"Optimal penalty: \", Penalty(clipped_powers))"
   ]
  }
 ],
 "metadata": {
  "kernelspec": {
   "display_name": "Python 3 (ipykernel)",
   "language": "python",
   "name": "python3"
  },
  "language_info": {
   "codemirror_mode": {
    "name": "ipython",
    "version": 3
   },
   "file_extension": ".py",
   "mimetype": "text/x-python",
   "name": "python",
   "nbconvert_exporter": "python",
   "pygments_lexer": "ipython3",
   "version": "3.7.11"
  }
 },
 "nbformat": 4,
 "nbformat_minor": 5
}
