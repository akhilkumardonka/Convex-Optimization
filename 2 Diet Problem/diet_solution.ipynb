{
 "cells": [
  {
   "cell_type": "code",
   "execution_count": 2,
   "metadata": {
    "id": "XA59O3DxlBPZ"
   },
   "outputs": [],
   "source": [
    "import numpy as np\n",
    "import cvxpy as cp\n",
    "\n",
    "cost = np.matrix([0.18, 0.25, 0.05])\n",
    "vitamin = np.matrix([107, 500, 0])\n",
    "calories = np.matrix([72, 121, 65])"
   ]
  },
  {
   "cell_type": "code",
   "execution_count": 3,
   "metadata": {
    "id": "N3kz0EqZlJIR"
   },
   "outputs": [],
   "source": [
    "s = cp.Variable((3,1), integer=True)\n",
    "\n",
    "def totalCost(c):\n",
    "    return np.matmul(cost, c)"
   ]
  },
  {
   "cell_type": "code",
   "execution_count": 4,
   "metadata": {
    "id": "FcXm-FkJlNzV"
   },
   "outputs": [],
   "source": [
    "objective = cp.Minimize(cp.matmul(cost, s))\n",
    "constraints = [0 <= s, 10 >= s, 2250 >= cp.matmul(calories, s), cp.matmul(calories, s) >= 2000, cp.matmul(vitamin, s) >= 5000, 50000 >= cp.matmul(vitamin, s)]\n",
    "prob = cp.Problem(objective, constraints)"
   ]
  },
  {
   "cell_type": "code",
   "execution_count": 5,
   "metadata": {
    "colab": {
     "base_uri": "https://localhost:8080/"
    },
    "id": "fjSqcHuxlN0b",
    "outputId": "6d32b95b-7688-4394-8520-7c79331436f8"
   },
   "outputs": [
    {
     "name": "stdout",
     "output_type": "stream",
     "text": [
      "Optimal servings: [[ 2.]\n",
      " [10.]\n",
      " [10.]]\n",
      "Optimal penalty:  [[3.36]]\n"
     ]
    }
   ],
   "source": [
    "prob.solve()\n",
    "\n",
    "print(\"Optimal servings:\", s.value)\n",
    "print(\"Optimal penalty: \", totalCost(s.value))"
   ]
  },
  {
   "cell_type": "markdown",
   "metadata": {
    "id": "gMVYQnHomS5h"
   },
   "source": [
    "# Optimal combination for least cost is : **2** servings of Corn, **10** servings of Milk and **10** servings of Wheat bread"
   ]
  },
  {
   "cell_type": "code",
   "execution_count": null,
   "metadata": {
    "id": "STzkG7w6mxsf"
   },
   "outputs": [],
   "source": []
  }
 ],
 "metadata": {
  "colab": {
   "name": "diet_problem.ipynb",
   "provenance": []
  },
  "kernelspec": {
   "display_name": "Python 3 (ipykernel)",
   "language": "python",
   "name": "python3"
  },
  "language_info": {
   "codemirror_mode": {
    "name": "ipython",
    "version": 3
   },
   "file_extension": ".py",
   "mimetype": "text/x-python",
   "name": "python",
   "nbconvert_exporter": "python",
   "pygments_lexer": "ipython3",
   "version": "3.7.11"
  }
 },
 "nbformat": 4,
 "nbformat_minor": 1
}
