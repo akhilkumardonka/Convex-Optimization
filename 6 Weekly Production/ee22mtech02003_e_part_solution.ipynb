{
  "nbformat": 4,
  "nbformat_minor": 0,
  "metadata": {
    "colab": {
      "name": "Weekly Production Solution",
      "provenance": []
    },
    "kernelspec": {
      "name": "python3",
      "display_name": "Python 3"
    },
    "language_info": {
      "name": "python"
    }
  },
  "cells": [
    {
      "cell_type": "code",
      "execution_count": 1,
      "metadata": {
        "id": "LQ1ftsgm_KQ6"
      },
      "outputs": [],
      "source": [
        "#All imports\n",
        "import pandas as pd\n",
        "import numpy as np\n",
        "import cvxpy as cp"
      ]
    },
    {
      "cell_type": "code",
      "source": [
        "given_data=[{'Max production limit per day':6000,'Storage (cubic feet)':40,'minimum sale per week':5000,'weekly demand':10000,'Net profit per item':4},\n",
        "      {'Max production limit per day':3000,'Storage (cubic feet)':210,'minimum sale per week':4000,'weekly demand':8000,'Net profit per item':10},\n",
        "      {'Max production limit per day':5000,'Storage (cubic feet)':45,'minimum sale per week':'-','weekly demand':15000,'Net profit per item':6}]\n",
        "\n",
        "table=pd.DataFrame(given_data,index=['iPod','iPad','iPhone'])\n",
        "table"
      ],
      "metadata": {
        "colab": {
          "base_uri": "https://localhost:8080/",
          "height": 143
        },
        "id": "-o_98QYS_93b",
        "outputId": "bf80cb8c-3184-4585-f143-2d69f98826f4"
      },
      "execution_count": 5,
      "outputs": [
        {
          "output_type": "execute_result",
          "data": {
            "text/html": [
              "\n",
              "  <div id=\"df-289543b3-6f13-4029-8b13-6f1d2ad65a72\">\n",
              "    <div class=\"colab-df-container\">\n",
              "      <div>\n",
              "<style scoped>\n",
              "    .dataframe tbody tr th:only-of-type {\n",
              "        vertical-align: middle;\n",
              "    }\n",
              "\n",
              "    .dataframe tbody tr th {\n",
              "        vertical-align: top;\n",
              "    }\n",
              "\n",
              "    .dataframe thead th {\n",
              "        text-align: right;\n",
              "    }\n",
              "</style>\n",
              "<table border=\"1\" class=\"dataframe\">\n",
              "  <thead>\n",
              "    <tr style=\"text-align: right;\">\n",
              "      <th></th>\n",
              "      <th>Max production limit per day</th>\n",
              "      <th>Storage (cubic feet)</th>\n",
              "      <th>minimum sale per week</th>\n",
              "      <th>weekly demand</th>\n",
              "      <th>Net profit per item</th>\n",
              "    </tr>\n",
              "  </thead>\n",
              "  <tbody>\n",
              "    <tr>\n",
              "      <th>iPod</th>\n",
              "      <td>6000</td>\n",
              "      <td>40</td>\n",
              "      <td>5000</td>\n",
              "      <td>10000</td>\n",
              "      <td>4</td>\n",
              "    </tr>\n",
              "    <tr>\n",
              "      <th>iPad</th>\n",
              "      <td>3000</td>\n",
              "      <td>210</td>\n",
              "      <td>4000</td>\n",
              "      <td>8000</td>\n",
              "      <td>10</td>\n",
              "    </tr>\n",
              "    <tr>\n",
              "      <th>iPhone</th>\n",
              "      <td>5000</td>\n",
              "      <td>45</td>\n",
              "      <td>-</td>\n",
              "      <td>15000</td>\n",
              "      <td>6</td>\n",
              "    </tr>\n",
              "  </tbody>\n",
              "</table>\n",
              "</div>\n",
              "      <button class=\"colab-df-convert\" onclick=\"convertToInteractive('df-289543b3-6f13-4029-8b13-6f1d2ad65a72')\"\n",
              "              title=\"Convert this dataframe to an interactive table.\"\n",
              "              style=\"display:none;\">\n",
              "        \n",
              "  <svg xmlns=\"http://www.w3.org/2000/svg\" height=\"24px\"viewBox=\"0 0 24 24\"\n",
              "       width=\"24px\">\n",
              "    <path d=\"M0 0h24v24H0V0z\" fill=\"none\"/>\n",
              "    <path d=\"M18.56 5.44l.94 2.06.94-2.06 2.06-.94-2.06-.94-.94-2.06-.94 2.06-2.06.94zm-11 1L8.5 8.5l.94-2.06 2.06-.94-2.06-.94L8.5 2.5l-.94 2.06-2.06.94zm10 10l.94 2.06.94-2.06 2.06-.94-2.06-.94-.94-2.06-.94 2.06-2.06.94z\"/><path d=\"M17.41 7.96l-1.37-1.37c-.4-.4-.92-.59-1.43-.59-.52 0-1.04.2-1.43.59L10.3 9.45l-7.72 7.72c-.78.78-.78 2.05 0 2.83L4 21.41c.39.39.9.59 1.41.59.51 0 1.02-.2 1.41-.59l7.78-7.78 2.81-2.81c.8-.78.8-2.07 0-2.86zM5.41 20L4 18.59l7.72-7.72 1.47 1.35L5.41 20z\"/>\n",
              "  </svg>\n",
              "      </button>\n",
              "      \n",
              "  <style>\n",
              "    .colab-df-container {\n",
              "      display:flex;\n",
              "      flex-wrap:wrap;\n",
              "      gap: 12px;\n",
              "    }\n",
              "\n",
              "    .colab-df-convert {\n",
              "      background-color: #E8F0FE;\n",
              "      border: none;\n",
              "      border-radius: 50%;\n",
              "      cursor: pointer;\n",
              "      display: none;\n",
              "      fill: #1967D2;\n",
              "      height: 32px;\n",
              "      padding: 0 0 0 0;\n",
              "      width: 32px;\n",
              "    }\n",
              "\n",
              "    .colab-df-convert:hover {\n",
              "      background-color: #E2EBFA;\n",
              "      box-shadow: 0px 1px 2px rgba(60, 64, 67, 0.3), 0px 1px 3px 1px rgba(60, 64, 67, 0.15);\n",
              "      fill: #174EA6;\n",
              "    }\n",
              "\n",
              "    [theme=dark] .colab-df-convert {\n",
              "      background-color: #3B4455;\n",
              "      fill: #D2E3FC;\n",
              "    }\n",
              "\n",
              "    [theme=dark] .colab-df-convert:hover {\n",
              "      background-color: #434B5C;\n",
              "      box-shadow: 0px 1px 3px 1px rgba(0, 0, 0, 0.15);\n",
              "      filter: drop-shadow(0px 1px 2px rgba(0, 0, 0, 0.3));\n",
              "      fill: #FFFFFF;\n",
              "    }\n",
              "  </style>\n",
              "\n",
              "      <script>\n",
              "        const buttonEl =\n",
              "          document.querySelector('#df-289543b3-6f13-4029-8b13-6f1d2ad65a72 button.colab-df-convert');\n",
              "        buttonEl.style.display =\n",
              "          google.colab.kernel.accessAllowed ? 'block' : 'none';\n",
              "\n",
              "        async function convertToInteractive(key) {\n",
              "          const element = document.querySelector('#df-289543b3-6f13-4029-8b13-6f1d2ad65a72');\n",
              "          const dataTable =\n",
              "            await google.colab.kernel.invokeFunction('convertToInteractive',\n",
              "                                                     [key], {});\n",
              "          if (!dataTable) return;\n",
              "\n",
              "          const docLinkHtml = 'Like what you see? Visit the ' +\n",
              "            '<a target=\"_blank\" href=https://colab.research.google.com/notebooks/data_table.ipynb>data table notebook</a>'\n",
              "            + ' to learn more about interactive tables.';\n",
              "          element.innerHTML = '';\n",
              "          dataTable['output_type'] = 'display_data';\n",
              "          await google.colab.output.renderOutput(dataTable, element);\n",
              "          const docLink = document.createElement('div');\n",
              "          docLink.innerHTML = docLinkHtml;\n",
              "          element.appendChild(docLink);\n",
              "        }\n",
              "      </script>\n",
              "    </div>\n",
              "  </div>\n",
              "  "
            ],
            "text/plain": [
              "        Max production limit per day  ...  Net profit per item\n",
              "iPod                            6000  ...                    4\n",
              "iPad                            3000  ...                   10\n",
              "iPhone                          5000  ...                    6\n",
              "\n",
              "[3 rows x 5 columns]"
            ]
          },
          "metadata": {},
          "execution_count": 5
        }
      ]
    },
    {
      "cell_type": "code",
      "source": [
        "#getting numpy array\n",
        "data=table.to_numpy()\n",
        "#displaying array A\n",
        "data"
      ],
      "metadata": {
        "colab": {
          "base_uri": "https://localhost:8080/"
        },
        "id": "4tHDKFYlALjD",
        "outputId": "47e04b10-0cc5-4dd6-ae26-25abaf3bca8b"
      },
      "execution_count": 8,
      "outputs": [
        {
          "output_type": "execute_result",
          "data": {
            "text/plain": [
              "array([[6000, 40, 5000, 10000, 4],\n",
              "       [3000, 210, 4000, 8000, 10],\n",
              "       [5000, 45, '-', 15000, 6]], dtype=object)"
            ]
          },
          "metadata": {},
          "execution_count": 8
        }
      ]
    },
    {
      "cell_type": "code",
      "source": [
        "days=5\n",
        "x=cp.Variable((3,1))\n",
        "items_each_day = cp.multiply(np.reshape(data[:,0],(len(data[:,0]),1)),x)\n",
        "items_each_week = days*items_each_day\n",
        "\n",
        "def TotalCost(data):\n",
        "  return data[:,4].T@items_each_week\n",
        "\n",
        "#Objective fuction to be maximized\n",
        "Objective= cp.Maximize(TotalCost(data))\n",
        "\n",
        "# Constraints\n",
        "constraints= [sum(x)<=1, sum(cp.multiply(items_each_week , np.reshape(data[:,1],(3,1))/1000)) <= 6000, items_each_week[0:2,:]>=np.reshape(data[0:2,2],(2,1))]\n",
        "constraints += [items_each_week <= np.reshape(data[:,3],(3,1)), x>=0]\n",
        "#Problem formulation and solution\n",
        "problem = cp.Problem(Objective, constraints) \n",
        "problem.solve()\n",
        "\n",
        "print( \"Maximum net profit : \", problem.solve())\n",
        "print(\"Values of proportion to be considered for maximum profit : \", x.value)"
      ],
      "metadata": {
        "colab": {
          "base_uri": "https://localhost:8080/"
        },
        "id": "pLC4uWNJA6sM",
        "outputId": "4b8cd6bd-488d-496d-e56f-3273a6f0419c"
      },
      "execution_count": 20,
      "outputs": [
        {
          "output_type": "stream",
          "name": "stdout",
          "text": [
            "Maximum net profit :  145000.00011527352\n",
            "Values of proportion to be considered for maximum profit :  [[0.16666667]\n",
            " [0.4203366 ]\n",
            " [0.41299673]]\n"
          ]
        }
      ]
    },
    {
      "cell_type": "code",
      "source": [
        ""
      ],
      "metadata": {
        "id": "Si_dhbkXEH75"
      },
      "execution_count": null,
      "outputs": []
    }
  ]
}