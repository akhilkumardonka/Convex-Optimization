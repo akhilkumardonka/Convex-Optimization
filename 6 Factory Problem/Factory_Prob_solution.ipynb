{
  "nbformat": 4,
  "nbformat_minor": 0,
  "metadata": {
    "colab": {
      "name": "Factory Problem",
      "provenance": [],
      "collapsed_sections": []
    },
    "kernelspec": {
      "name": "python3",
      "display_name": "Python 3"
    },
    "language_info": {
      "name": "python"
    }
  },
  "cells": [
    {
      "cell_type": "code",
      "execution_count": 31,
      "metadata": {
        "id": "5_ad7jIhi4ZH"
      },
      "outputs": [],
      "source": [
        "import numpy as np\n",
        "import cvxpy as cp\n",
        "\n",
        "n = 3;\n",
        "m = 5;\n",
        "c = np.array([[8, 6, 10, 9, 8], [9, 12, 13, 7, 5], [14, 9, 16, 5, 2]])\n",
        "s = np.array([40, 50, 45]).T.reshape(3,1)\n",
        "dmin = np.array([45, 20, 30, 30, 10]).T.reshape(5,1)"
      ]
    },
    {
      "cell_type": "code",
      "source": [
        "# cost function\n",
        "def totalCost(x):\n",
        "  return cp.trace(cp.matmul(x, c.T))\n",
        "\n",
        "x = cp.Variable((n,m), integer=True) #variable initialization of (n x m) dimension\n",
        "objective = cp.Minimize(totalCost(x)) #defining objective function\n",
        "constraints = [x >= 0, cp.matmul(x.T, np.ones([3,1])) >= dmin, cp.matmul(x, np.ones([5,1])) <= s] #defining constraints\n",
        "problem = cp.Problem(objective, constraints) #defining convex problem\n",
        "\n",
        "problem.solve()\n",
        "print(f\"Matrix for goods from factories to destination: {x.value}\\n\")\n",
        "print(f\"Optimal Cost: {totalCost(x).value}\")"
      ],
      "metadata": {
        "colab": {
          "base_uri": "https://localhost:8080/"
        },
        "id": "lMaYv8JBmCxc",
        "outputId": "34038bba-c106-41b4-d1ce-32f8af875918"
      },
      "execution_count": 32,
      "outputs": [
        {
          "output_type": "stream",
          "name": "stdout",
          "text": [
            "Matrix for goods from factories to destination: [[ 0. 15. 25.  0.  0.]\n",
            " [45.  0.  5.  0.  0.]\n",
            " [ 0.  5.  0. 30. 10.]]\n",
            "\n",
            "Optimal Cost: 1025.0\n"
          ]
        }
      ]
    }
  ]
}