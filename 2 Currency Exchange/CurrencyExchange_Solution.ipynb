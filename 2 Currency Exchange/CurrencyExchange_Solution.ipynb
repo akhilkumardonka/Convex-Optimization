{
  "nbformat": 4,
  "nbformat_minor": 0,
  "metadata": {
    "colab": {
      "name": "CurrencyExchange",
      "provenance": []
    },
    "kernelspec": {
      "name": "python3",
      "display_name": "Python 3"
    },
    "language_info": {
      "name": "python"
    }
  },
  "cells": [
    {
      "cell_type": "code",
      "execution_count": 7,
      "metadata": {
        "colab": {
          "base_uri": "https://localhost:8080/",
          "height": 0
        },
        "id": "htpgsaaCT_hT",
        "outputId": "48553172-b197-4b2d-fb7e-5f8a05ba0d41"
      },
      "outputs": [
        {
          "output_type": "stream",
          "name": "stdout",
          "text": [
            "c_init:  [1818.18181818 1636.36363636 1454.54545455 1272.72727273 1090.90909091\n",
            "  909.09090909  727.27272727  545.45454545  363.63636364  181.81818182]\n",
            "c_req:  [ 181.81818182  363.63636364  545.45454545  727.27272727  909.09090909\n",
            " 1090.90909091 1272.72727273 1454.54545455 1636.36363636 1818.18181818]\n",
            "Exchange rate matrix : [[1.00000000e+00 8.70000000e-01 7.60000000e-01 1.31000000e+00\n",
            "  1.08900000e+02 6.72000000e+00 6.54500000e+01 1.91100000e+01\n",
            "  7.11300000e+01 3.69000000e+00]\n",
            " [1.18965517e+00 1.00000000e+00 8.80000000e-01 1.51000000e+00\n",
            "  1.25150000e+02 7.72000000e+00 7.52300000e+01 2.19600000e+01\n",
            "  8.18500000e+01 4.24000000e+00]\n",
            " [1.36184211e+00 1.17613636e+00 1.00000000e+00 1.72000000e+00\n",
            "  1.42940000e+02 8.82000000e+00 8.59000000e+01 2.50800000e+01\n",
            "  9.35000000e+01 4.84000000e+00]\n",
            " [7.90076336e-01 6.85430464e-01 6.01744186e-01 1.00000000e+00\n",
            "  8.29300000e+01 5.11000000e+00 4.98200000e+01 1.45400000e+01\n",
            "  5.42300000e+01 2.81000000e+00]\n",
            " [9.50413223e-03 8.27007591e-03 7.24080034e-03 1.24804052e-02\n",
            "  1.00000000e+00 6.20000000e-02 6.00000000e-01 1.80000000e-01\n",
            "  6.50000000e-01 3.40000000e-02]\n",
            " [1.54017857e-01 1.34067358e-01 1.17346939e-01 2.02544031e-01\n",
            "  1.66935484e+01 1.00000000e+00 9.74000000e+00 2.85000000e+00\n",
            "  1.06100000e+01 5.50000000e-01]\n",
            " [1.58135982e-02 1.37578094e-02 1.20488941e-02 2.07747892e-02\n",
            "  1.72500000e+00 1.06262834e-01 1.00000000e+00 2.90000000e-01\n",
            "  1.09000000e+00 5.60000000e-02]\n",
            " [5.41601256e-02 4.71311475e-02 4.12679426e-02 7.11829436e-02\n",
            "  5.75000000e+00 3.63157895e-01 3.56896552e+00 1.00000000e+00\n",
            "  3.73000000e+00 1.90000000e-01]\n",
            " [1.45508224e-02 1.26450825e-02 1.10695187e-02 1.90853771e-02\n",
            "  1.59230769e+00 9.75494816e-02 9.49541284e-01 2.77479893e-01\n",
            "  1.00000000e+00 5.20000000e-02]\n",
            " [2.80487805e-01 2.44103774e-01 2.13842975e-01 3.68327402e-01\n",
            "  3.04411765e+01 1.88181818e+00 1.84821429e+01 5.44736842e+00\n",
            "  1.99038462e+01 1.00000000e+00]]\n"
          ]
        }
      ],
      "source": [
        "import numpy as np\n",
        "import cvxpy as cp\n",
        "\n",
        "# Exchange rate data.\n",
        "tickers = [\"USD\", \"EUR\", \"GBP\", \"CAD\", \"JPY\", \"CNY\", \"RUB\", \"MXN\", \"INR\", \"BRL\"]\n",
        "n = len(tickers)\n",
        "F = np.zeros((n, n))\n",
        "# USD\n",
        "data = ([1.0, 0.87, 0.76, 1.31, 108.90, 6.72, 65.45, 19.11, 71.13, 3.69],\n",
        "# EUR\n",
        "[1.0, 0.88, 1.51, 125.15, 7.72, 75.23, 21.96, 81.85, 4.24],\n",
        "# GBP\n",
        "[1.0, 1.72, 142.94, 8.82, 85.90, 25.08, 93.50, 4.84],\n",
        "# CAD\n",
        "[1.0, 82.93, 5.11, 49.82, 14.54, 54.23, 2.81],\n",
        "# JPY\n",
        "[1.0, 0.062, 0.60, 0.18, 0.65, 0.034],\n",
        "# CNY\n",
        "[1.0, 9.74, 2.85, 10.61, 0.55],\n",
        "# RUB\n",
        "[1.0, 0.29, 1.09, 0.056],\n",
        "# MXN\n",
        "[1.0, 3.73, 0.19],\n",
        "# INR\n",
        "[1.0, 0.052],\n",
        "# BRL\n",
        "[1.0])\n",
        "for i in range(n):\n",
        "    F[i,i:] = data[i]\n",
        "for j in range(n):\n",
        "    for i in range(j+1,n):\n",
        "        F[i,j] = 1.035/F[j,i]\n",
        "        \n",
        "# Initial and final portfolios.\n",
        "c_req = np.arange(1,n+1)\n",
        "c_req = 1e4*c_req/c_req.sum()\n",
        "c_init = c_req[::-1]\n",
        "\n",
        "print(\"c_init: \", c_init)\n",
        "print(\"c_req: \", c_req)\n",
        "print(\"Exchange rate matrix :\", F)"
      ]
    },
    {
      "cell_type": "code",
      "source": [
        "#initializing currency exchange matrix\n",
        "X = cp.Variable((n,n))\n",
        "\n",
        "#currency holdings after exchange\n",
        "ones = np.ones(n)\n",
        "purchased = cp.matmul((X/F), ones)\n",
        "sold = cp.matmul(X.T, ones)\n",
        "c_final = purchased - sold + c_init\n",
        "\n",
        "#cost function\n",
        "def total_cost(c):\n",
        "  currency_values = np.sqrt(F[:,0]/F[0,:])\n",
        "  currency_decrease = c_init - c\n",
        "  return currency_values@currency_decrease\n",
        "\n",
        "#convex problem formulation\n",
        "prob = cp.Problem(cp.Minimize(total_cost(c_final)),[X >= 0, cp.diag(X) == 0, cp.matmul(X.T, ones) <= c_init, c_final >= c_req])\n",
        "result = prob.solve()\n",
        "\n",
        "print(\"The minimum cost is: \", total_cost(c_final.value), \" USD\")\n",
        "print(\"Final Currency Holdings: \", c_final.value)"
      ],
      "metadata": {
        "colab": {
          "base_uri": "https://localhost:8080/"
        },
        "id": "sjt5ZtUtYwDX",
        "outputId": "b3aba3ab-bb07-436f-dd01-4a291e0cfe84"
      },
      "execution_count": 36,
      "outputs": [
        {
          "output_type": "stream",
          "name": "stdout",
          "text": [
            "The minimum cost is:  7.720059340057868  USD\n",
            "Final Currency Holdings:  [1257.49577907 1636.36363639 1771.6701903   727.27272732  909.09091043\n",
            " 1090.90909094 1272.72727321 1454.54545464 1636.3636367  1818.1818182 ]\n"
          ]
        }
      ]
    }
  ]
}