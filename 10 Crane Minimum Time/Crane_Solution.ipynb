{
  "nbformat": 4,
  "nbformat_minor": 0,
  "metadata": {
    "colab": {
      "name": "Crane Solution",
      "provenance": [],
      "collapsed_sections": []
    },
    "kernelspec": {
      "name": "python3",
      "display_name": "Python 3"
    },
    "language_info": {
      "name": "python"
    }
  },
  "cells": [
    {
      "cell_type": "code",
      "execution_count": 23,
      "metadata": {
        "id": "3puWxfsfvbtW"
      },
      "outputs": [],
      "source": [
        "import numpy as np\n",
        "import cvxpy as cp\n",
        "import matplotlib.pyplot as plt"
      ]
    },
    {
      "cell_type": "code",
      "source": [
        "#initializations as per data \n",
        "\n",
        "theta = 15*np.pi/180\n",
        "UB = 100 #upperbound\n",
        "LB = 10  #lowerbound\n",
        "\n",
        "mass = 0.1\n",
        "max_tension = 2\n",
        "h = 0.1\n",
        "p_feas = 0\n",
        "t_feas = 0\n",
        "g = np.array([0,-9.8]).reshape((2,1))\n",
        "orientation = np.array([[- np.sin(theta), np.sin(theta) ], [ np.cos(theta), np.cos(theta) ]])\n",
        "p_init = np.array([0,0])\n",
        "p_des = np.array([10,2])"
      ],
      "metadata": {
        "id": "9LEyoO7JwZq-"
      },
      "execution_count": 24,
      "outputs": []
    },
    {
      "cell_type": "code",
      "source": [
        "while not LB + 1 == UB:\n",
        "  k = int((UB + LB)/2.0)\n",
        "  velocity = cp.Variable((2,k))\n",
        "  Tension = cp.Variable((2,k-1))\n",
        "  position = cp.Variable((2,k))\n",
        "\n",
        "  F = cp.matmul(orientation,Tension) + mass*np.tile(g,(1,k-1))\n",
        "\n",
        "  constraints = [0 <= Tension, Tension <= max_tension, position[:,0] == p_init, position[:,k-1] == p_des, velocity[:,0] == 0 , velocity[:,k-1] == 0\n",
        "                , position[:,1:k] == position[:,0:k-1] + h*velocity[:,0:k-1], velocity[:,1:k] == velocity[:,0:k-1] + (h/mass)*F]\n",
        "\n",
        "  cv_prob = cp.Problem(cp.Minimize(0),constraints)\n",
        "  optimum = cv_prob.solve()\n",
        "\n",
        "  if optimum == 0:\n",
        "    UB = k\n",
        "    p_feas = position.value\n",
        "    t_feas = Tension.value\n",
        "  else :\n",
        "    LB = k\n",
        "\n",
        "k = UB\n",
        "print('K Minimum : ', k)"
      ],
      "metadata": {
        "colab": {
          "base_uri": "https://localhost:8080/"
        },
        "id": "ImPgeu-0we_K",
        "outputId": "a0a71346-df3d-4aed-e024-961508357bd4"
      },
      "execution_count": 25,
      "outputs": [
        {
          "output_type": "stream",
          "name": "stdout",
          "text": [
            "K Minimum :  34\n"
          ]
        }
      ]
    },
    {
      "cell_type": "code",
      "source": [
        "plt.subplot(2,1,1)\n",
        "plt.plot(p_feas[0,:].T,p_feas[1,:].T)\n",
        "plt.title('Tensions vs Trajectory')\n",
        "plt.subplot(2,1,2)\n",
        "plt.plot(t_feas[0,:].T,label='left')\n",
        "plt.plot(t_feas[1,:].T,label='right')\n",
        "plt.legend()\n",
        "plt.title('Tensions vs Time')\n",
        "plt.show()"
      ],
      "metadata": {
        "colab": {
          "base_uri": "https://localhost:8080/",
          "height": 281
        },
        "id": "DpDNoaWY2YX6",
        "outputId": "0a167a2c-a659-4ea2-effa-417d6b9089ea"
      },
      "execution_count": 26,
      "outputs": [
        {
          "output_type": "display_data",
          "data": {
            "text/plain": [
              "<Figure size 432x288 with 2 Axes>"
            ],
            "image/png": "[encoded data removed]"
          },
          "metadata": {
            "needs_background": "light"
          }
        }
      ]
    },
    {
      "cell_type": "code",
      "source": [
        ""
      ],
      "metadata": {
        "id": "Mju32A1S2kfL"
      },
      "execution_count": null,
      "outputs": []
    }
  ]
}